{
 "cells": [
  {
   "cell_type": "markdown",
   "id": "eb4f01c5",
   "metadata": {},
   "source": [
    "# Dados simulados\n",
    "Esse notebook apresenta dados simulados para avaliar os efeitos de correlação entre variáveis no LightGBM"
   ]
  },
  {
   "cell_type": "markdown",
   "id": "863d6db7",
   "metadata": {},
   "source": [
    "## Setup"
   ]
  },
  {
   "cell_type": "code",
   "execution_count": 1,
   "id": "f76dc87d",
   "metadata": {},
   "outputs": [
    {
     "name": "stderr",
     "output_type": "stream",
     "text": [
      "/Users/fabiogavarinibaccarin/.local/share/virtualenvs/colinearidade-uKx2d5fU/lib/python3.7/site-packages/tqdm/auto.py:22: TqdmWarning: IProgress not found. Please update jupyter and ipywidgets. See https://ipywidgets.readthedocs.io/en/stable/user_install.html\n",
      "  from .autonotebook import tqdm as notebook_tqdm\n"
     ]
    }
   ],
   "source": [
    "import pandas as pd\n",
    "import numpy as np\n",
    "import lightgbm\n",
    "from sklearn import datasets, model_selection, metrics\n",
    "import shap"
   ]
  },
  {
   "cell_type": "code",
   "execution_count": 2,
   "id": "9d6f82e8",
   "metadata": {},
   "outputs": [],
   "source": [
    "def run(setup):\n",
    "    X, y = datasets.make_classification(**setup)\n",
    "\n",
    "    X_train, X_test, y_train, y_test = model_selection.train_test_split(\n",
    "        X, y,\n",
    "        test_size=0.2,\n",
    "        stratify=y,\n",
    "        random_state=0\n",
    "    )\n",
    "    lgbc = lightgbm.LGBMClassifier().fit(X_train, y_train)\n",
    "    roc = metrics.roc_auc_score(y_test, lgbc.predict_proba(X_test)[:, 1])\n",
    "    shap_risk = np.exp(\n",
    "        pd.DataFrame(shap.TreeExplainer(lgbc).shap_values(X_test)[0]).abs().mean()\n",
    "    ).sub(1).mean()\n",
    "    \n",
    "    return roc, shap_risk"
   ]
  },
  {
   "cell_type": "markdown",
   "id": "0248afdd",
   "metadata": {},
   "source": [
    "## Benchmark"
   ]
  },
  {
   "cell_type": "code",
   "execution_count": 3,
   "id": "f5347f87",
   "metadata": {},
   "outputs": [],
   "source": [
    "BENCHMARK_SETUP = {\n",
    "    \"n_samples\": 50_000,\n",
    "    \"n_features\": 20,\n",
    "    \"n_informative\": 20,\n",
    "    \"n_redundant\": 0,\n",
    "    \"flip_y\": 0.15,\n",
    "    \"hypercube\": False,\n",
    "    \"random_state\": 0,\n",
    "}\n",
    "BENCHMARK = {}"
   ]
  },
  {
   "cell_type": "code",
   "execution_count": 4,
   "id": "04d66fa9",
   "metadata": {},
   "outputs": [
    {
     "name": "stdout",
     "output_type": "stream",
     "text": [
      "BENCHMARK ROC=91%\n",
      "BENCHMARK SHAP RISK=13%\n"
     ]
    },
    {
     "name": "stderr",
     "output_type": "stream",
     "text": [
      "LightGBM binary classifier with TreeExplainer shap values output has changed to a list of ndarray\n"
     ]
    }
   ],
   "source": [
    "BENCHMARK[\"roc\"], BENCHMARK[\"shape_risk\"] = run(BENCHMARK_SETUP)\n",
    "print(\"BENCHMARK ROC={:.0%}\".format(BENCHMARK[\"roc\"]))\n",
    "print(\"BENCHMARK SHAP RISK={:.0%}\".format(BENCHMARK[\"shape_risk\"]))"
   ]
  },
  {
   "cell_type": "markdown",
   "id": "59e689a1",
   "metadata": {},
   "source": [
    "## Experimentos"
   ]
  },
  {
   "cell_type": "code",
   "execution_count": 5,
   "id": "5c22e034",
   "metadata": {},
   "outputs": [
    {
     "name": "stderr",
     "output_type": "stream",
     "text": [
      "LightGBM binary classifier with TreeExplainer shap values output has changed to a list of ndarray\n",
      "LightGBM binary classifier with TreeExplainer shap values output has changed to a list of ndarray\n",
      "LightGBM binary classifier with TreeExplainer shap values output has changed to a list of ndarray\n",
      "LightGBM binary classifier with TreeExplainer shap values output has changed to a list of ndarray\n",
      "LightGBM binary classifier with TreeExplainer shap values output has changed to a list of ndarray\n",
      "LightGBM binary classifier with TreeExplainer shap values output has changed to a list of ndarray\n",
      "LightGBM binary classifier with TreeExplainer shap values output has changed to a list of ndarray\n",
      "LightGBM binary classifier with TreeExplainer shap values output has changed to a list of ndarray\n",
      "LightGBM binary classifier with TreeExplainer shap values output has changed to a list of ndarray\n",
      "LightGBM binary classifier with TreeExplainer shap values output has changed to a list of ndarray\n",
      "LightGBM binary classifier with TreeExplainer shap values output has changed to a list of ndarray\n",
      "LightGBM binary classifier with TreeExplainer shap values output has changed to a list of ndarray\n",
      "LightGBM binary classifier with TreeExplainer shap values output has changed to a list of ndarray\n",
      "LightGBM binary classifier with TreeExplainer shap values output has changed to a list of ndarray\n",
      "LightGBM binary classifier with TreeExplainer shap values output has changed to a list of ndarray\n",
      "LightGBM binary classifier with TreeExplainer shap values output has changed to a list of ndarray\n",
      "LightGBM binary classifier with TreeExplainer shap values output has changed to a list of ndarray\n",
      "LightGBM binary classifier with TreeExplainer shap values output has changed to a list of ndarray\n",
      "LightGBM binary classifier with TreeExplainer shap values output has changed to a list of ndarray\n"
     ]
    },
    {
     "data": {
      "text/html": [
       "<div>\n",
       "<style scoped>\n",
       "    .dataframe tbody tr th:only-of-type {\n",
       "        vertical-align: middle;\n",
       "    }\n",
       "\n",
       "    .dataframe tbody tr th {\n",
       "        vertical-align: top;\n",
       "    }\n",
       "\n",
       "    .dataframe thead th {\n",
       "        text-align: right;\n",
       "    }\n",
       "</style>\n",
       "<table border=\"1\" class=\"dataframe\">\n",
       "  <thead>\n",
       "    <tr style=\"text-align: right;\">\n",
       "      <th></th>\n",
       "      <th>n_informative</th>\n",
       "      <th>n_redundant</th>\n",
       "      <th>ROC</th>\n",
       "      <th>SHAP Risk</th>\n",
       "    </tr>\n",
       "  </thead>\n",
       "  <tbody>\n",
       "    <tr>\n",
       "      <th>18</th>\n",
       "      <td>20</td>\n",
       "      <td>0</td>\n",
       "      <td>0.906708</td>\n",
       "      <td>0.134371</td>\n",
       "    </tr>\n",
       "    <tr>\n",
       "      <th>17</th>\n",
       "      <td>19</td>\n",
       "      <td>1</td>\n",
       "      <td>0.913337</td>\n",
       "      <td>0.152072</td>\n",
       "    </tr>\n",
       "    <tr>\n",
       "      <th>16</th>\n",
       "      <td>18</td>\n",
       "      <td>2</td>\n",
       "      <td>0.906384</td>\n",
       "      <td>0.139759</td>\n",
       "    </tr>\n",
       "    <tr>\n",
       "      <th>15</th>\n",
       "      <td>17</td>\n",
       "      <td>3</td>\n",
       "      <td>0.904925</td>\n",
       "      <td>0.144503</td>\n",
       "    </tr>\n",
       "    <tr>\n",
       "      <th>14</th>\n",
       "      <td>16</td>\n",
       "      <td>4</td>\n",
       "      <td>0.906390</td>\n",
       "      <td>0.133109</td>\n",
       "    </tr>\n",
       "    <tr>\n",
       "      <th>13</th>\n",
       "      <td>15</td>\n",
       "      <td>5</td>\n",
       "      <td>0.902775</td>\n",
       "      <td>0.145179</td>\n",
       "    </tr>\n",
       "    <tr>\n",
       "      <th>12</th>\n",
       "      <td>14</td>\n",
       "      <td>6</td>\n",
       "      <td>0.902518</td>\n",
       "      <td>0.137714</td>\n",
       "    </tr>\n",
       "    <tr>\n",
       "      <th>11</th>\n",
       "      <td>13</td>\n",
       "      <td>7</td>\n",
       "      <td>0.900623</td>\n",
       "      <td>0.160044</td>\n",
       "    </tr>\n",
       "    <tr>\n",
       "      <th>10</th>\n",
       "      <td>12</td>\n",
       "      <td>8</td>\n",
       "      <td>0.891011</td>\n",
       "      <td>0.149029</td>\n",
       "    </tr>\n",
       "    <tr>\n",
       "      <th>9</th>\n",
       "      <td>11</td>\n",
       "      <td>9</td>\n",
       "      <td>0.896920</td>\n",
       "      <td>0.130890</td>\n",
       "    </tr>\n",
       "    <tr>\n",
       "      <th>8</th>\n",
       "      <td>10</td>\n",
       "      <td>10</td>\n",
       "      <td>0.901996</td>\n",
       "      <td>0.156251</td>\n",
       "    </tr>\n",
       "    <tr>\n",
       "      <th>7</th>\n",
       "      <td>9</td>\n",
       "      <td>11</td>\n",
       "      <td>0.899825</td>\n",
       "      <td>0.149554</td>\n",
       "    </tr>\n",
       "    <tr>\n",
       "      <th>6</th>\n",
       "      <td>8</td>\n",
       "      <td>12</td>\n",
       "      <td>0.882774</td>\n",
       "      <td>0.134296</td>\n",
       "    </tr>\n",
       "    <tr>\n",
       "      <th>5</th>\n",
       "      <td>7</td>\n",
       "      <td>13</td>\n",
       "      <td>0.878792</td>\n",
       "      <td>0.151720</td>\n",
       "    </tr>\n",
       "    <tr>\n",
       "      <th>4</th>\n",
       "      <td>6</td>\n",
       "      <td>14</td>\n",
       "      <td>0.915218</td>\n",
       "      <td>0.177610</td>\n",
       "    </tr>\n",
       "    <tr>\n",
       "      <th>3</th>\n",
       "      <td>5</td>\n",
       "      <td>15</td>\n",
       "      <td>0.908130</td>\n",
       "      <td>0.170192</td>\n",
       "    </tr>\n",
       "    <tr>\n",
       "      <th>2</th>\n",
       "      <td>4</td>\n",
       "      <td>16</td>\n",
       "      <td>0.882965</td>\n",
       "      <td>0.150714</td>\n",
       "    </tr>\n",
       "    <tr>\n",
       "      <th>1</th>\n",
       "      <td>3</td>\n",
       "      <td>17</td>\n",
       "      <td>0.889573</td>\n",
       "      <td>0.159326</td>\n",
       "    </tr>\n",
       "    <tr>\n",
       "      <th>0</th>\n",
       "      <td>2</td>\n",
       "      <td>18</td>\n",
       "      <td>0.729448</td>\n",
       "      <td>0.077667</td>\n",
       "    </tr>\n",
       "  </tbody>\n",
       "</table>\n",
       "</div>"
      ],
      "text/plain": [
       "    n_informative  n_redundant       ROC  SHAP Risk\n",
       "18             20            0  0.906708   0.134371\n",
       "17             19            1  0.913337   0.152072\n",
       "16             18            2  0.906384   0.139759\n",
       "15             17            3  0.904925   0.144503\n",
       "14             16            4  0.906390   0.133109\n",
       "13             15            5  0.902775   0.145179\n",
       "12             14            6  0.902518   0.137714\n",
       "11             13            7  0.900623   0.160044\n",
       "10             12            8  0.891011   0.149029\n",
       "9              11            9  0.896920   0.130890\n",
       "8              10           10  0.901996   0.156251\n",
       "7               9           11  0.899825   0.149554\n",
       "6               8           12  0.882774   0.134296\n",
       "5               7           13  0.878792   0.151720\n",
       "4               6           14  0.915218   0.177610\n",
       "3               5           15  0.908130   0.170192\n",
       "2               4           16  0.882965   0.150714\n",
       "1               3           17  0.889573   0.159326\n",
       "0               2           18  0.729448   0.077667"
      ]
     },
     "execution_count": 5,
     "metadata": {},
     "output_type": "execute_result"
    }
   ],
   "source": [
    "res = []\n",
    "for n in range(2, BENCHMARK_SETUP[\"n_informative\"]+1):\n",
    "    n_redundant = BENCHMARK_SETUP[\"n_features\"] - n\n",
    "    roc, shap_risk = run(dict(BENCHMARK_SETUP, n_informative=n, n_redundant=n_redundant))\n",
    "    res.append({\"n_informative\": n, \"n_redundant\": n_redundant, \"ROC\": roc, \"SHAP Risk\": shap_risk})\n",
    "\n",
    "res = pd.DataFrame(res)\n",
    "res.sort_values(by=\"n_redundant\")"
   ]
  }
 ],
 "metadata": {
  "kernelspec": {
   "display_name": "Python 3 (ipykernel)",
   "language": "python",
   "name": "python3"
  },
  "language_info": {
   "codemirror_mode": {
    "name": "ipython",
    "version": 3
   },
   "file_extension": ".py",
   "mimetype": "text/x-python",
   "name": "python",
   "nbconvert_exporter": "python",
   "pygments_lexer": "ipython3",
   "version": "3.7.13"
  }
 },
 "nbformat": 4,
 "nbformat_minor": 5
}
